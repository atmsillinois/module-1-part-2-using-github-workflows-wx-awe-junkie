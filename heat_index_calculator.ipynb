{
 "cells": [
  {
   "cell_type": "markdown",
   "id": "8660153e",
   "metadata": {},
   "source": [
    "# Heat Index Calculator\n",
    "This script calculates the heat index based on user input of temperature and dewpoint (DP).\n",
    "From the temperature and dewpoint, the relative humidity is calculated. Then temperature and DP are used to calculate relative humidity (RH). Temperature and RH are the variables in the heat index equation\n",
    "- source: NWS WPC \"The Heat Index Equation\": https://www.wpc.ncep.noaa.gov/html/heatindex_equation.shtml\n",
    "- The Heat Index Equation\n",
    "    - HI = -42.379 + 2.04901523*T + 10.14333127*RH - .22475541*T*RH - .00683783*T*T - .05481717*RH*RH + .00122874*T*T*RH + .00085282*T*RH*RH - .00000199*T*T*RH*RH\n",
    "        - where T is temperature in degrees F and RH is relative humidity in percent.  \n",
    "    - HI is the heat index expressed as an apparent temperature in degrees F.\n",
    "- Adjustments to the Heat Index Equation\n",
    "    - If the RH is less than 13% and the temperature is between 80 and 112 degrees F, then the following adjustment is _subtracted_ from HI: \n",
    "        - ADJUSTMENT = [(13-RH)/4]*SQRT{[17-ABS(T-95.)]/17}\n",
    "    - If the RH is greater than 85% and the temperature is between 80 and 87 degrees F, then the following adjustment is _added_ to HI: \n",
    "        - ADJUSTMENT = [(RH-85)/10] * [(87-T)/5]\n",
    "- The Rothfusz regression is not appropriate when conditions of temperature and humidity warrant a heat index value below about 80 degrees F. In those cases, a simpler formula is applied:\n",
    "    - HI = 0.5 * {T + 61.0 + [(T-68.0)*1.2] + (RH*0.094)} \n",
    "- In practice, the simple formula is computed first and the result averaged with the temperature. If this heat index value is 80 degrees F or higher, the full regression equation along with any adjustment as described above is applied. \n",
    "- Calculate RH from DP\n",
    "    - source: University of Miami (https://bmcnoldy.earth.miami.edu/Humidity.html)\n",
    "    - RH: =100*(EXP((17.625*TD)/(243.04+TD))/EXP((17.625*T)/(243.04+T))) \n",
    "        - T = temp in _°Celsius_ \n",
    "        - TD = dew point temp (DP) in _°Celsius_ "
   ]
  },
  {
   "cell_type": "markdown",
   "id": "581e37f8",
   "metadata": {},
   "source": [
    "## Plan of Action\n",
    "- Use main branch to dial in the calculation\n",
    "    1) request user input of temp and DP\n",
    "    2) request user input of whether temp and DP are in C or F\n",
    "    3) _if_ T and DP not already in C, convert to C\n",
    "    4) calculate RH (in C) from T and DP (in C)\n",
    "    5) calculate HI (in F) via the simple HI formula\n",
    "    6) _if_ HI > 80F, calculate full regression equation\n",
    "    7) _if_ RH > 85% _and_ 80F < T < 87F, add appropriate adjustment to HI\n",
    "    8) _if_ RH < 13% _and_ 80F < T < 112F, subtract appropriate adjustment to HI\n",
    "    9) print calculated HI \n",
    "- Branch the functioning calculator and add additional comments as output, e.g.:\n",
    "    - \"Humidity in the air makes it feel X degrees warmer than the air temperature\"\n",
    "- Merge the calculator with comment capability back onto main"
   ]
  },
  {
   "cell_type": "code",
   "execution_count": 28,
   "id": "f0e6d1ff",
   "metadata": {},
   "outputs": [],
   "source": [
    "# Import necessary modules\n",
    "\n",
    "import math"
   ]
  },
  {
   "cell_type": "code",
   "execution_count": 72,
   "id": "35575814",
   "metadata": {},
   "outputs": [],
   "source": [
    "# HEAT INDEX CALCULATOR\n",
    "# User inputs = temperature and dew point in either degrees C or degrees F\n",
    "\n",
    "# Request user inputs\n",
    "temp = input(\"Enter the air temperature as a whole number, in degrees C or degrees F) \\n\")\n",
    "temp = int(temp)\n",
    "dewpt = input(\"Enter the dew point temperature as a whole number, in degrees C or degrees F) \\n\")\n",
    "dewpt = int(dewpt)\n",
    "t_scale = input(\"Are the temperature and dew point in degrees Celcius or degrees Fahrenheit? Enter 'C' for Celcius or 'F' for Fahrenheit) \\n\")"
   ]
  },
  {
   "cell_type": "code",
   "execution_count": 92,
   "id": "6d1f7f2c",
   "metadata": {},
   "outputs": [],
   "source": [
    "# reset temp and dewpt without needing inputs\n",
    "# DELETE IN FINAL SCRIPT\n",
    "\n",
    "temp = 82\n",
    "dewpt = 81\n",
    "t_scale = 'F'"
   ]
  },
  {
   "cell_type": "code",
   "execution_count": 93,
   "id": "c6f40978",
   "metadata": {},
   "outputs": [
    {
     "name": "stdout",
     "output_type": "stream",
     "text": [
      "You entered:\n",
      "temp =  82\n",
      "dewpt =  81\n",
      "temperature scale =  F\n"
     ]
    }
   ],
   "source": [
    "# Print out the variables the user entered (confirmation)\n",
    "print (\"You entered:\")\n",
    "print(\"temp = \", temp)\n",
    "print(\"dewpt = \", dewpt)\n",
    "print(\"temperature scale = \", t_scale)"
   ]
  },
  {
   "cell_type": "code",
   "execution_count": 94,
   "id": "483b241e",
   "metadata": {},
   "outputs": [],
   "source": [
    "# The HI formulas require temp and dewpt in Fahrenheit, whereas the RH forumula requires temp and dewpt in Celcius, so save the temp in both F and C\n",
    "\n",
    "# Possible error: this code assumes that the user correctly entered the temp scale as either F or C\n",
    "# I'm not including error handling for any other possible value of t_scale \n",
    "\n",
    "# If temp and dewpt were entered in Fahrenheit, convert to Celcius\n",
    "if t_scale == 'F':\n",
    "    tempF = temp\n",
    "    dewptF = dewpt\n",
    "\n",
    "    tempC = round((tempF - 32)*(5/9),1)\n",
    "    dewptC = round((dewptF - 32)*(5/9),1)\n",
    "\n",
    "# If temp and dewpt were entered in Celcius, convert to Fahrenheit\n",
    "else:\n",
    "    tempC = temp\n",
    "    dewptC = dewpt\n",
    "\n",
    "    tempF =(tempC*(9/5)) + 32\n",
    "    dewptF = (dewptC*(9/5)) + 32"
   ]
  },
  {
   "cell_type": "code",
   "execution_count": 95,
   "id": "b68ec626",
   "metadata": {},
   "outputs": [
    {
     "name": "stdout",
     "output_type": "stream",
     "text": [
      "user-entered temp =  82\n",
      "user-entered dewpt =  81\n",
      "temp in F =  82\n",
      "dewpt in F =  81\n",
      "temp in C =  27.8\n",
      "dewpt in C =  27.2\n"
     ]
    }
   ],
   "source": [
    "# DELETE IN FINAL SCRIPT - checking calculations\n",
    "print(\"user-entered temp = \", temp)\n",
    "print(\"user-entered dewpt = \", dewpt)\n",
    "print(\"temp in F = \", tempF)\n",
    "print(\"dewpt in F = \", dewptF)\n",
    "print(\"temp in C = \", tempC)\n",
    "print(\"dewpt in C = \", dewptC)\n"
   ]
  },
  {
   "cell_type": "code",
   "execution_count": 96,
   "id": "4e95a6a0",
   "metadata": {},
   "outputs": [],
   "source": [
    "# Calculate RH using temp and dewpt (in C)\n",
    "\n",
    "rh =round(100*(math.exp((17.625*dewptC)/(243.04+dewptC))/math.exp((17.625*tempC)/(243.04+tempC))),2) "
   ]
  },
  {
   "cell_type": "code",
   "execution_count": 97,
   "id": "1d554946",
   "metadata": {},
   "outputs": [
    {
     "name": "stdout",
     "output_type": "stream",
     "text": [
      "At this temperature and dewpoint, the relative humidity is  96.55 %\n"
     ]
    }
   ],
   "source": [
    "print(\"At this temperature and dewpoint, the relative humidity is \", rh, \"%\")"
   ]
  },
  {
   "cell_type": "code",
   "execution_count": 98,
   "id": "5785695a",
   "metadata": {},
   "outputs": [
    {
     "name": "stdout",
     "output_type": "stream",
     "text": [
      "simple HI =  84.0\n",
      "regression HI without adjustments =  93.0\n",
      "entering if statement for swamp\n",
      "The heat index under these conditions is  94.0 degrees Fahrenheit\n"
     ]
    }
   ],
   "source": [
    "# Calculate HI using simple forumula\n",
    "# If this formula returns an HI > 80F, we need to use the full regression\n",
    "\n",
    "# Units:\n",
    "# temp and dewpt must be in degrees F\n",
    "# rh must be in percent\n",
    "\n",
    "heat_index_simp = round(0.5 * (tempF + 61.0 + ((tempF-68.0)*1.2) + (rh*0.094)),0)\n",
    "print(\"simple HI = \", heat_index_simp)\n",
    "\n",
    "# If the simple HI formula returns a value less than 80 degrees, we're done:\n",
    "if heat_index_simp < 80:\n",
    "    heat_index = heat_index_simp\n",
    "\n",
    "else: \n",
    "    heat_index_reg = round((-42.379) + (2.04901523*tempF) + (10.14333127*rh) \n",
    "                       - (.22475541*tempF*rh) - (.00683783*tempF*tempF) \n",
    "                       - (.05481717*rh*rh) + (.00122874*tempF*tempF*rh) \n",
    "                       + (.00085282*tempF*rh*rh) - (.00000199*tempF*tempF*rh*rh),0)\n",
    "    print (\"regression HI without adjustments = \", heat_index_reg) \n",
    "    \n",
    "    # apply any applicable adjustments\n",
    "    if (rh < 13) and ((tempF > 80) and (tempF < 112)):\n",
    "        print (\"entering if statement for low RH\")\n",
    "        adj1 = ((13-rh)/4)*math.sqrt((17-abs(tempF-95))/17)\n",
    "\n",
    "        heat_index_reg = round(heat_index_reg - adj1,0)\n",
    "\n",
    "    if (rh > 85) and ((tempF > 80) and (tempF < 87)):\n",
    "        print (\"entering if statement for swamp\")\n",
    "        adj2 = ((rh-85)/10) * ((87-tempF)/5)\n",
    "\n",
    "        heat_index_reg = round(heat_index_reg + adj2,0)\n",
    "    \n",
    "    heat_index = heat_index_reg\n",
    "\n",
    "print(\"The heat index under these conditions is \", heat_index, \"degrees Fahrenheit\")"
   ]
  },
  {
   "cell_type": "code",
   "execution_count": 99,
   "id": "8d66c41b",
   "metadata": {},
   "outputs": [
    {
     "name": "stdout",
     "output_type": "stream",
     "text": [
      "The humidity in the air makes it feel 12.0 degrees warmer than the air temperature.\n"
     ]
    }
   ],
   "source": [
    "# New feature:\n",
    "# specify by how much the humidity raises the apparent temperature - i.e. how much higher is the HI than the air temp\n",
    "\n",
    "t_diff = round(heat_index - tempF,0)\n",
    "print (\"The humidity in the air makes it feel\", t_diff, \"degrees warmer than the air temperature.\")"
   ]
  }
 ],
 "metadata": {
  "kernelspec": {
   "display_name": "base",
   "language": "python",
   "name": "python3"
  },
  "language_info": {
   "codemirror_mode": {
    "name": "ipython",
    "version": 3
   },
   "file_extension": ".py",
   "mimetype": "text/x-python",
   "name": "python",
   "nbconvert_exporter": "python",
   "pygments_lexer": "ipython3",
   "version": "3.11.6"
  }
 },
 "nbformat": 4,
 "nbformat_minor": 5
}
